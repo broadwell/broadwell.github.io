{
  "nbformat": 4,
  "nbformat_minor": 0,
  "metadata": {
    "colab": {
      "name": "intro_to_python.ipynb",
      "version": "0.3.2",
      "provenance": [],
      "collapsed_sections": [
        "JaZY-y6FHIwg",
        "Lk20eiVAHIwv",
        "FgsqJZovHIxS"
      ],
      "toc_visible": true,
      "include_colab_link": true
    },
    "language_info": {
      "mimetype": "text/x-python",
      "nbconvert_exporter": "python",
      "name": "python",
      "file_extension": ".py",
      "version": "3.5.4",
      "pygments_lexer": "ipython3",
      "codemirror_mode": {
        "version": 3,
        "name": "ipython"
      }
    },
    "kernelspec": {
      "name": "python3",
      "display_name": "Python 3"
    },
    "accelerator": "GPU"
  },
  "cells": [
    {
      "cell_type": "markdown",
      "metadata": {
        "id": "view-in-github",
        "colab_type": "text"
      },
      "source": [
        "<a href=\"https://colab.research.google.com/github/broadwell/broadwell.github.io/blob/master/intro_to_python.ipynb\" target=\"_parent\"><img src=\"https://colab.research.google.com/assets/colab-badge.svg\" alt=\"Open In Colab\"/></a>"
      ]
    },
    {
      "metadata": {
        "id": "SJ2-_7uCHIun",
        "colab_type": "text"
      },
      "cell_type": "markdown",
      "source": [
        "# Introduction to Python\n",
        "\n",
        "## Info\n",
        "- Peter Broadwell (CIDR), broadwell@stanford.edu\n",
        "- Scott Bailey (CIDR), scottbailey@stanford.edu\n",
        "\n",
        "## Goal\n",
        "\n",
        "By the end of our workshop today, we hope you'll understand basic syntax in Python for variables, functions, and control flow, and understand some of the basic data structures in Python. With these in hand, you'll know enough to write basic scripts and explore other features of the language.  \n",
        "\n",
        "## Topics\n",
        "- Variables and types/structures (String, Int, Float, List, Dictionary)\n",
        "- Functions\n",
        "- Control flow\n",
        "- Reading and writing text to a file \n",
        "- A basic workflow of reading in content, doing something to it, then writing a new output"
      ]
    },
    {
      "metadata": {
        "id": "1lDQAAreHIur",
        "colab_type": "text"
      },
      "cell_type": "markdown",
      "source": [
        "##  Setup\n",
        "\n",
        "Go to http://bit.ly/cidr-intro-python-19\n",
        "\n",
        "To access the link, you will need to be signed in to [Google Drive](https://drive.google.com) with your SUNet account. If access is denied, check to make sure you aren't signed in to a different Google account by clicking the icon at the top right of the browser window.\n",
        "\n",
        "This is the **intro_to_python.ipynb** notebook, which you'll be able to see after opening the link above. We recommend opening this notebook and using it during the tutorial, although you can also refer to the **intro_to_python_filled.ipynb** notebook, which gives the expected output of each command, as well as solutions to the coding activities.\n",
        "\n",
        "Once you have selected a notebook, you should click the \"Open with Colaboratory\" link that appears at the top of the page. This copy of the notebook is now attached to your own user account, so you can edit it in any way you like -- you can even take notes directly in the notebook."
      ]
    },
    {
      "metadata": {
        "id": "yYkp3KycHIut",
        "colab_type": "text"
      },
      "cell_type": "markdown",
      "source": [
        "## Why Python?\n",
        "\n",
        "It's multi-use: you can write simple scripts to automate tasks, write complex code for machine learning and other approaches, and even build full-scale web applications.\n",
        "\n",
        "The biggest reason we see people learning Python right now is for data science and related approaches, regardless of disciplinary background."
      ]
    },
    {
      "metadata": {
        "id": "TFekjJ1tHIuu",
        "colab_type": "text"
      },
      "cell_type": "markdown",
      "source": [
        "## Jupyter Notebooks and Cloud Services\n",
        "\n",
        "Jupyter notebooks are a way to write and run Python code in an interactive way. They've quickly become a standard tool for putting together data, code, and written explanation or visualizations into a single document that can be shared. There are a lot of ways that you can run Jupyter notebooks, including just locally on your computer, but for this workshop, we're using Google's \"Colaboratory\" platform. It is  similar to services from Microsoft and Amazon, all of which provide the same core functionality of running Jupyter notebooks in the cloud. Google \"Colab\" offers a virtual environment that can contain a notebook and static files and comes with a variety of popular libraries pre-installed. It also allows you to install other libraries as needed, and even gives you access to cloud-based GPUs for deep-learning applications. Be aware, however, that files won't persist across sessions unless you download them or save them to Drive.\n",
        "\n",
        "Using the Colab platform allows us to focus on learning and writing Python in the workshop rather than on setting up Python, which sometimes can take a bit of extra work depending on operating systems and other aspects of the computing environment. If you'd like to install a Python distribution locally, though, we have some instructions (with gifs!) on installing Python through the Anaconda distribution, which will also help you handle virtual environments: https://github.com/sul-cidr/python_workshops/blob/master/setup.ipynb\n",
        "\n",
        "If you run into problems, or would like to look at other ways of installing Python, feel free to send us an email. "
      ]
    },
    {
      "metadata": {
        "id": "JFZht2PvHIux",
        "colab_type": "text"
      },
      "cell_type": "markdown",
      "source": [
        "## Variables and types"
      ]
    },
    {
      "metadata": {
        "trusted": true,
        "id": "2dKlye84HIuy",
        "colab_type": "code",
        "colab": {}
      },
      "cell_type": "code",
      "source": [
        "# Strings\n",
        "greeting = \"Hello, I'm Peter. It's a pleasure to meet you.\"\n",
        "# After you run this cell, note the difference between printing out in Jupyter and getting the\n",
        "# output from the last line of the cell\n",
        "print(greeting)\n",
        "greeting"
      ],
      "execution_count": 0,
      "outputs": []
    },
    {
      "metadata": {
        "trusted": true,
        "id": "bgTKY2nrHIu7",
        "colab_type": "code",
        "colab": {}
      },
      "cell_type": "code",
      "source": [
        "# Find a letter by index\n",
        "greeting[3]"
      ],
      "execution_count": 0,
      "outputs": []
    },
    {
      "metadata": {
        "trusted": true,
        "id": "2iGANp4bHIvB",
        "colab_type": "code",
        "colab": {}
      },
      "cell_type": "code",
      "source": [
        "# Get the length of a string. Length here is a built-in function in Python\n",
        "len(greeting)"
      ],
      "execution_count": 0,
      "outputs": []
    },
    {
      "metadata": {
        "trusted": true,
        "id": "6255N_lVHIvH",
        "colab_type": "code",
        "colab": {}
      },
      "cell_type": "code",
      "source": [
        "len?"
      ],
      "execution_count": 0,
      "outputs": []
    },
    {
      "metadata": {
        "trusted": true,
        "id": "SrUawwd_HIvL",
        "colab_type": "code",
        "colab": {}
      },
      "cell_type": "code",
      "source": [
        "# Count spaces in the string. Here, count() is a method that all strings have, i.e.,\n",
        "# a function that can be run on the string.\n",
        "greeting.count(' ')"
      ],
      "execution_count": 0,
      "outputs": []
    },
    {
      "metadata": {
        "trusted": true,
        "id": "jfuQkgKnHIvR",
        "colab_type": "code",
        "colab": {}
      },
      "cell_type": "code",
      "source": [
        "greeting.count?"
      ],
      "execution_count": 0,
      "outputs": []
    },
    {
      "metadata": {
        "trusted": true,
        "id": "mlKrvYoPHIvW",
        "colab_type": "code",
        "colab": {}
      },
      "cell_type": "code",
      "source": [
        "# Slice to get the first 3 characters\n",
        "greeting[:3]"
      ],
      "execution_count": 0,
      "outputs": []
    },
    {
      "metadata": {
        "trusted": true,
        "id": "zIJzWuG5HIvd",
        "colab_type": "code",
        "colab": {}
      },
      "cell_type": "code",
      "source": [
        "# Get the last three characters\n",
        "greeting[-3:]"
      ],
      "execution_count": 0,
      "outputs": []
    },
    {
      "metadata": {
        "trusted": true,
        "id": "zjkm_CS2HIvi",
        "colab_type": "code",
        "colab": {}
      },
      "cell_type": "code",
      "source": [
        "# Replace hello with goodbye\n",
        "greeting.replace(\"Hello\", \"Goodbye\")"
      ],
      "execution_count": 0,
      "outputs": []
    },
    {
      "metadata": {
        "trusted": true,
        "id": "3VS_83xpHIvm",
        "colab_type": "code",
        "colab": {}
      },
      "cell_type": "code",
      "source": [
        "# String concatenation\n",
        "\"Hello\" + \" \" + \"World\""
      ],
      "execution_count": 0,
      "outputs": []
    },
    {
      "metadata": {
        "trusted": true,
        "id": "PjEAKNMZHIvr",
        "colab_type": "code",
        "colab": {}
      },
      "cell_type": "code",
      "source": [
        "# Use tab in Jupyter notebooks to explore functionality\n",
        "# greeting."
      ],
      "execution_count": 0,
      "outputs": []
    },
    {
      "metadata": {
        "trusted": true,
        "id": "73438kSPHIvu",
        "colab_type": "code",
        "colab": {}
      },
      "cell_type": "code",
      "source": [
        "# Numbers\n",
        "# Integer and floats\n",
        "first_num = 10\n",
        "second_num = 5.467\n",
        "print(type(first_num), type(second_num))"
      ],
      "execution_count": 0,
      "outputs": []
    },
    {
      "metadata": {
        "trusted": true,
        "id": "xxjzn3dfHIvx",
        "colab_type": "code",
        "colab": {}
      },
      "cell_type": "code",
      "source": [
        "# Addition\n",
        "1 + 5"
      ],
      "execution_count": 0,
      "outputs": []
    },
    {
      "metadata": {
        "trusted": true,
        "id": "xBy-9Z-9HIv3",
        "colab_type": "code",
        "colab": {}
      },
      "cell_type": "code",
      "source": [
        "# Division\n",
        "10 / 2"
      ],
      "execution_count": 0,
      "outputs": []
    },
    {
      "metadata": {
        "trusted": true,
        "id": "aQbMEh7uHIv9",
        "colab_type": "code",
        "colab": {}
      },
      "cell_type": "code",
      "source": [
        "# Multiplication\n",
        "5 * 2"
      ],
      "execution_count": 0,
      "outputs": []
    },
    {
      "metadata": {
        "trusted": true,
        "id": "wrwQEJrEHIwF",
        "colab_type": "code",
        "colab": {}
      },
      "cell_type": "code",
      "source": [
        "# Lists\n",
        "drinks = ['coffee', 'tea', 'water']\n",
        "drinks"
      ],
      "execution_count": 0,
      "outputs": []
    },
    {
      "metadata": {
        "trusted": true,
        "id": "zB7aR64oHIwK",
        "colab_type": "code",
        "colab": {}
      },
      "cell_type": "code",
      "source": [
        "# Python allows you to create lists containing elements of different types\n",
        "mixed = [2, 'hello', 10.5, 'here is a sentence']\n",
        "for item in mixed:\n",
        "    print(type(item))"
      ],
      "execution_count": 0,
      "outputs": []
    },
    {
      "metadata": {
        "trusted": true,
        "id": "OraaGapZHIwP",
        "colab_type": "code",
        "colab": {}
      },
      "cell_type": "code",
      "source": [
        "# Get item by index\n",
        "drinks[2]"
      ],
      "execution_count": 0,
      "outputs": []
    },
    {
      "metadata": {
        "trusted": true,
        "id": "KB2zWbVfHIwT",
        "colab_type": "code",
        "colab": {}
      },
      "cell_type": "code",
      "source": [
        "# Add an item to the end of the list\n",
        "drinks.append('juice')\n",
        "# Modify an element \"in place\" via its index\n",
        "drinks[0] = \"hot water\"\n",
        "drinks"
      ],
      "execution_count": 0,
      "outputs": []
    },
    {
      "metadata": {
        "trusted": true,
        "id": "sw1B7uasHIwX",
        "colab_type": "code",
        "colab": {}
      },
      "cell_type": "code",
      "source": [
        "# Splitting a string - note the type of the output\n",
        "greeting_words = greeting.split(' ')\n",
        "greeting_words"
      ],
      "execution_count": 0,
      "outputs": []
    },
    {
      "metadata": {
        "trusted": true,
        "id": "df1BPlH6HIwZ",
        "colab_type": "code",
        "colab": {}
      },
      "cell_type": "code",
      "source": [
        "# Joining a list of strings \n",
        "' '.join(greeting_words)"
      ],
      "execution_count": 0,
      "outputs": []
    },
    {
      "metadata": {
        "id": "0Q4DxvmBDGNT",
        "colab_type": "code",
        "colab": {}
      },
      "cell_type": "code",
      "source": [
        "# Dictionaries are another useful data type. They associate \"keys\" (usually strings or integers)\n",
        "# to values, which can be anything: ints, strings, floats, lists, other dictionaries\n",
        "majors = { 'Peter': 'Musicology', 'Scott': 'Religious Studies', 'Quinn': 'Slavic Studies', 'Ron': 'Economics' }\n",
        "majors['Peter']"
      ],
      "execution_count": 0,
      "outputs": []
    },
    {
      "metadata": {
        "id": "BXtrF6N_HIwf",
        "colab_type": "text"
      },
      "cell_type": "markdown",
      "source": [
        "There are plenty of other data types and structures that we aren't going to use today, such as: sets, tuples, and so forth. "
      ]
    },
    {
      "metadata": {
        "id": "JaZY-y6FHIwg",
        "colab_type": "text"
      },
      "cell_type": "markdown",
      "source": [
        "## Functions\n",
        "\n",
        "At the most basic level, functions are chunks of reusable code."
      ]
    },
    {
      "metadata": {
        "trusted": true,
        "id": "I5dsX6pkHIwg",
        "colab_type": "code",
        "colab": {}
      },
      "cell_type": "code",
      "source": [
        "# Define a function\n",
        "def add(num1, num2):\n",
        "    return num1 + num2\n",
        "\n",
        "add(1, 2)"
      ],
      "execution_count": 0,
      "outputs": []
    },
    {
      "metadata": {
        "trusted": true,
        "id": "9Qso8TseHIwl",
        "colab_type": "code",
        "colab": {}
      },
      "cell_type": "code",
      "source": [
        "def combine_arrays(array1, array2):\n",
        "    new_list = array1 + array2\n",
        "    return new_list\n",
        "\n",
        "first = ['hello', 2]\n",
        "second = [1, 10]\n",
        "new = combine_arrays(first, second)\n",
        "new"
      ],
      "execution_count": 0,
      "outputs": []
    },
    {
      "metadata": {
        "id": "AFXH4yqCHIwq",
        "colab_type": "text"
      },
      "cell_type": "markdown",
      "source": [
        "### Activity\n",
        "\n",
        "Pig latin is a language game where you take the first letter of a word, move it to the end of the word, then add '-ay' at the end. For example, 'pig latin' would be 'igpay atinlay' and 'python' would turn into 'ythonpay'.\n",
        "\n",
        "In the cell below, write a function that takes a string, lowercases it, and returns the pig latin translation of the word. You'll need to use slicing and string concatenation to make this work."
      ]
    },
    {
      "metadata": {
        "trusted": true,
        "id": "VcyIyWgcHIwq",
        "colab_type": "code",
        "colab": {}
      },
      "cell_type": "code",
      "source": [
        "def pig_latinize(word):\n",
        "    # CODE GOES HERE\n",
        "\n",
        "# the following should return 'ellohay'\n",
        "pig_latinize('Hello')"
      ],
      "execution_count": 0,
      "outputs": []
    },
    {
      "metadata": {
        "id": "Lk20eiVAHIwv",
        "colab_type": "text"
      },
      "cell_type": "markdown",
      "source": [
        "## Control flow "
      ]
    },
    {
      "metadata": {
        "trusted": true,
        "id": "EDJp21NoHIwv",
        "colab_type": "code",
        "colab": {}
      },
      "cell_type": "code",
      "source": [
        "# IF (conditional execution)\n",
        "name = \"Bob\"\n",
        "\n",
        "if name == \"Peter\":\n",
        "    print(\"Hi Peter!\")\n",
        "else:\n",
        "    print(\"Who are you?\")"
      ],
      "execution_count": 0,
      "outputs": []
    },
    {
      "metadata": {
        "trusted": true,
        "id": "NdAGrsNTHIwz",
        "colab_type": "code",
        "colab": {}
      },
      "cell_type": "code",
      "source": [
        "# You can use control flow with functions\n",
        "# Also, you can use if, else if, and else to specify more than one condition\n",
        "name = \"Bob\"\n",
        "\n",
        "def say_hello(name):\n",
        "    return \"Hello, \" + name + \"!\"\n",
        "\n",
        "if (name == \"Bob\"):\n",
        "    message = say_hello(\"Bob\")\n",
        "    print(message)\n",
        "elif (name == \"Peter\"):\n",
        "    message = say_hello(\"Peter\")\n",
        "    print(message)\n",
        "else:\n",
        "    print(\"Who are you?\")"
      ],
      "execution_count": 0,
      "outputs": []
    },
    {
      "metadata": {
        "trusted": true,
        "id": "quma-JNWHIw3",
        "colab_type": "code",
        "colab": {}
      },
      "cell_type": "code",
      "source": [
        "# FOR loops let you iterate over a list or other iterable object\n",
        "names = [\"Vijoy\", \"Claudia\", \"Scott\", \"Peter\"]\n",
        "for name in names:\n",
        "    print(name, len(name))"
      ],
      "execution_count": 0,
      "outputs": []
    },
    {
      "metadata": {
        "trusted": true,
        "id": "oMXUE6vQHIw5",
        "colab_type": "code",
        "colab": {}
      },
      "cell_type": "code",
      "source": [
        "# You can combine types of control flow\n",
        "for name in names[:3]:\n",
        "    if len(name) > 5:\n",
        "        print(name)"
      ],
      "execution_count": 0,
      "outputs": []
    },
    {
      "metadata": {
        "id": "uIDb_CojDTpQ",
        "colab_type": "code",
        "colab": {}
      },
      "cell_type": "code",
      "source": [
        "# Testing list membership\n",
        "if ('Peter' in names):\n",
        "    print(\"Peter is here\")\n",
        "else:\n",
        "    print(\"Peter is missing!\")"
      ],
      "execution_count": 0,
      "outputs": []
    },
    {
      "metadata": {
        "trusted": true,
        "id": "Jby2eeWmHIw7",
        "colab_type": "code",
        "colab": {}
      },
      "cell_type": "code",
      "source": [
        "def add_one(num):\n",
        "    return num + 1\n",
        "\n",
        "nums = [1, 2, 3, 4]\n",
        "plus = []\n",
        "for num in nums:\n",
        "    plus.append(add_one(num))\n",
        "# plus = list(map(add_one, nums))\n",
        "plus"
      ],
      "execution_count": 0,
      "outputs": []
    },
    {
      "metadata": {
        "trusted": true,
        "id": "NY2cs8OyHIxA",
        "colab_type": "code",
        "colab": {}
      },
      "cell_type": "code",
      "source": [
        "# ADVANCED: List Comprehensions\n",
        "# List comprehensions are a \"pythonic\" way of building lists in a compact manner\n",
        "\n",
        "added = [add_one(num) for num in nums]\n",
        "added"
      ],
      "execution_count": 0,
      "outputs": []
    },
    {
      "metadata": {
        "trusted": true,
        "id": "_pB53kxgHIxD",
        "colab_type": "code",
        "colab": {}
      },
      "cell_type": "code",
      "source": [
        "long_names = [name.lower() for name in names[:3] if len(name) > 5]\n",
        "long_names"
      ],
      "execution_count": 0,
      "outputs": []
    },
    {
      "metadata": {
        "id": "JFnUmu0IDam-",
        "colab_type": "code",
        "colab": {}
      },
      "cell_type": "code",
      "source": [
        "# ADVANCED: List Comprehension with dictionary value lookup\n",
        "studiers = [ key for key in majors if majors[key].find(\"Studies\") >= 0]\n",
        "studiers"
      ],
      "execution_count": 0,
      "outputs": []
    },
    {
      "metadata": {
        "id": "lZlPlQfEHIxG",
        "colab_type": "text"
      },
      "cell_type": "markdown",
      "source": [
        "### Activity\n",
        "\n",
        "In the cell below, write a function that loops over a list and returns a new list where all the strings have been replaced with their pig latin translations. \n",
        "\n",
        "For example, if your list is `['hello', 5, 'world']` your output should be `['ellohay', 5, 'orldway']`.\n",
        "\n",
        "Feel free to reuse the pig latinizer you wrote above. You'll also need to think about checking the type of each item in the list."
      ]
    },
    {
      "metadata": {
        "trusted": true,
        "id": "AgMViAghHIxH",
        "colab_type": "code",
        "colab": {}
      },
      "cell_type": "code",
      "source": [
        "def pig_latinize_list(items):\n",
        "    # CODE GOES HERE\n",
        "\n",
        "pig_latinize_list(['hello', 5, 'world'])"
      ],
      "execution_count": 0,
      "outputs": []
    },
    {
      "metadata": {
        "id": "Cw2TglyqHIxK",
        "colab_type": "text"
      },
      "cell_type": "markdown",
      "source": [
        "## Reading from and writing text to a file "
      ]
    },
    {
      "metadata": {
        "trusted": true,
        "id": "QOj4Ix0dHIxL",
        "colab_type": "code",
        "colab": {}
      },
      "cell_type": "code",
      "source": [
        "# Working with comma-separated and similar data files will be covered in a later workshop. \n",
        "# It's worthwhile, however, to see how to read and write data or text to a file.\n",
        "# We'll start with writing some text to a file, then explore how to read it.\n",
        "\n",
        "sample_text = \"\"\"\n",
        "Lorem ipsum dolor sit amet, consectetur adipiscing elit. \n",
        "Fusce pharetra tristique iaculis. Morbi maximus interdum nibh, at faucibus lacus porta vitae.\n",
        "Praesent mi velit, tempus sit amet sagittis a, sodales sit amet sapien.\n",
        "Praesent dictum, diam a hendrerit cursus, eros dolor posuere sem, a porttitor libero nulla molestie eros.\n",
        "\"\"\"\n",
        "with open('lorem.txt', 'w') as f:\n",
        "    f.write(sample_text)\n",
        "\n",
        "\n",
        "# You can check the \"Files\" tab in the column at left now to find the output file\n",
        "# Note that you must click the \"REFRESH\" button to see it.\n"
      ],
      "execution_count": 0,
      "outputs": []
    },
    {
      "metadata": {
        "trusted": true,
        "id": "2K-9QtptHIxN",
        "colab_type": "code",
        "colab": {}
      },
      "cell_type": "code",
      "source": [
        "# Now, let's read the file back.\n",
        "with open('lorem.txt', 'r') as f:\n",
        "    print(f.read())"
      ],
      "execution_count": 0,
      "outputs": []
    },
    {
      "metadata": {
        "trusted": true,
        "id": "yViwpBFMHIxO",
        "colab_type": "code",
        "colab": {}
      },
      "cell_type": "code",
      "source": [
        "# We can also read the file line by line\n",
        "with open('lorem.txt', 'r') as f:\n",
        "    for line in f:\n",
        "        #line = line.strip()\n",
        "        print(line)"
      ],
      "execution_count": 0,
      "outputs": []
    },
    {
      "metadata": {
        "id": "4UX0mZBjHIxR",
        "colab_type": "text"
      },
      "cell_type": "markdown",
      "source": [
        "### Collaborative Activity\n",
        "\n",
        "There is a file named sonnet.txt, containing the text of Shakespeare's Sonnet 18, in the [Drive folder](https://drive.google.com/open?id=1T0CHayyfEXSsspeF854FIAz4W00iJlpv) you accessed when obtaining a local copy of this notebook. Our goal is to read that file in, pig latinize the sonnet, and write a new file containing the pig latinized sonnet.\n",
        "\n",
        "Some work is needed to get the file into the notebook's local (temporary) storage. You'll need to open the link above in a new browser tab,  right-click the \"sonnet.txt\" file to download it, then click the \"UPLOAD\" button in the \"Files\" list in the pane to the left of this notebook to open a dialog that will let you select and then upload the file.\n",
        "\n",
        "Hint: you may want to remove spaces from the beginning and end of each line with .strip()"
      ]
    },
    {
      "metadata": {
        "trusted": true,
        "id": "p7gwpIZuHIxS",
        "colab_type": "code",
        "colab": {}
      },
      "cell_type": "code",
      "source": [
        "# Pig latinize the sonnet\n",
        "with open('sonnet.txt', 'r') as f:\n",
        "    # CODE GOES HERE"
      ],
      "execution_count": 0,
      "outputs": []
    },
    {
      "metadata": {
        "id": "BPYg8TFGmcoS",
        "colab_type": "text"
      },
      "cell_type": "markdown",
      "source": [
        "Click the \"REFRESH\" button to update the \"Files\" list at left to display any new files you've created."
      ]
    },
    {
      "metadata": {
        "id": "FgsqJZovHIxS",
        "colab_type": "text"
      },
      "cell_type": "markdown",
      "source": [
        "## Further resources and topics\n",
        "\n",
        "### Resources\n",
        "- https://python.swaroopch.com/ (A Byte of Python is a great intro book and reference for Python)\n",
        "- https://docs.python.org/3/ (Official Python documentation and tutorials)\n",
        "- https://realpython.com/ (Contains a lot of different tutorials at different levels)\n",
        "- https://www.lynda.com/Python-training-tutorials/415-0.html (Lynda is free with Stanford accounts. I haven't used these tutorials but have used Lynda for other programming languages and been quite happy with it)\n",
        "\n",
        "### Topics\n",
        "- Other data structures: sets, tuples\n",
        "- Libraries, packages, and pip\n",
        "- Virtual environments\n",
        "- Text editors and local execution environments\n",
        "- The object-oriented paradigm in Python: classes, methods"
      ]
    }
  ]
}